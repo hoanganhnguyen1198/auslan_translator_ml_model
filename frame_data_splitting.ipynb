{
 "cells": [
  {
   "cell_type": "code",
   "execution_count": 21,
   "metadata": {},
   "outputs": [],
   "source": [
    "import cv2\n",
    "import pandas as pd\n",
    "import os"
   ]
  },
  {
   "cell_type": "code",
   "execution_count": 22,
   "metadata": {},
   "outputs": [],
   "source": [
    "FRAME_DATA_DIR = '/Users/hanhf/Works/programming/uow-studies/csit998/csit998_ml/data/fingerspelling_detection/frame_data'\n",
    "FILE_TYPE = '.mp4'"
   ]
  },
  {
   "cell_type": "code",
   "execution_count": 51,
   "metadata": {},
   "outputs": [],
   "source": [
    "f_df = pd.read_csv('fingerspelling_dataset.csv', index_col=0)"
   ]
  },
  {
   "cell_type": "code",
   "execution_count": 52,
   "metadata": {},
   "outputs": [
    {
     "name": "stdout",
     "output_type": "stream",
     "text": [
      "<class 'pandas.core.frame.DataFrame'>\n",
      "Index: 2004 entries, 0 to 2003\n",
      "Data columns (total 4 columns):\n",
      " #   Column           Non-Null Count  Dtype \n",
      "---  ------           --------------  ----- \n",
      " 0   Video_Clip_Name  2004 non-null   object\n",
      " 1   Begin_Frame      2004 non-null   int64 \n",
      " 2   End_Frame        2004 non-null   int64 \n",
      " 3   Finger_Spelling  2004 non-null   object\n",
      "dtypes: int64(2), object(2)\n",
      "memory usage: 78.3+ KB\n"
     ]
    }
   ],
   "source": [
    "f_df.info()"
   ]
  },
  {
   "cell_type": "code",
   "execution_count": 53,
   "metadata": {},
   "outputs": [
    {
     "data": {
      "text/html": [
       "<div>\n",
       "<style scoped>\n",
       "    .dataframe tbody tr th:only-of-type {\n",
       "        vertical-align: middle;\n",
       "    }\n",
       "\n",
       "    .dataframe tbody tr th {\n",
       "        vertical-align: top;\n",
       "    }\n",
       "\n",
       "    .dataframe thead th {\n",
       "        text-align: right;\n",
       "    }\n",
       "</style>\n",
       "<table border=\"1\" class=\"dataframe\">\n",
       "  <thead>\n",
       "    <tr style=\"text-align: right;\">\n",
       "      <th></th>\n",
       "      <th>Video_Clip_Name</th>\n",
       "      <th>Begin_Frame</th>\n",
       "      <th>End_Frame</th>\n",
       "      <th>Finger_Spelling</th>\n",
       "    </tr>\n",
       "  </thead>\n",
       "  <tbody>\n",
       "    <tr>\n",
       "      <th>0</th>\n",
       "      <td>video_80_130_signer.mp4</td>\n",
       "      <td>56</td>\n",
       "      <td>65</td>\n",
       "      <td>E G G</td>\n",
       "    </tr>\n",
       "    <tr>\n",
       "      <th>1</th>\n",
       "      <td>13_11_2022_94_signer.mp4</td>\n",
       "      <td>242</td>\n",
       "      <td>270</td>\n",
       "      <td>H A C K E R S</td>\n",
       "    </tr>\n",
       "    <tr>\n",
       "      <th>2</th>\n",
       "      <td>video_47_89_signer.mp4</td>\n",
       "      <td>3</td>\n",
       "      <td>22</td>\n",
       "      <td>R O P E</td>\n",
       "    </tr>\n",
       "    <tr>\n",
       "      <th>3</th>\n",
       "      <td>video_81_33_signer.mp4</td>\n",
       "      <td>32</td>\n",
       "      <td>60</td>\n",
       "      <td>S H E D</td>\n",
       "    </tr>\n",
       "    <tr>\n",
       "      <th>4</th>\n",
       "      <td>video_10_78_signer.mp4</td>\n",
       "      <td>29</td>\n",
       "      <td>72</td>\n",
       "      <td>T R A C Y</td>\n",
       "    </tr>\n",
       "    <tr>\n",
       "      <th>...</th>\n",
       "      <td>...</td>\n",
       "      <td>...</td>\n",
       "      <td>...</td>\n",
       "      <td>...</td>\n",
       "    </tr>\n",
       "    <tr>\n",
       "      <th>1999</th>\n",
       "      <td>4_12_2022_109_signer.mp4</td>\n",
       "      <td>39</td>\n",
       "      <td>65</td>\n",
       "      <td>S H I N E</td>\n",
       "    </tr>\n",
       "    <tr>\n",
       "      <th>2000</th>\n",
       "      <td>video_61_71_signer.mp4</td>\n",
       "      <td>67</td>\n",
       "      <td>91</td>\n",
       "      <td>C R A F T</td>\n",
       "    </tr>\n",
       "    <tr>\n",
       "      <th>2001</th>\n",
       "      <td>13_11_2022_93_signer.mp4</td>\n",
       "      <td>27</td>\n",
       "      <td>56</td>\n",
       "      <td>C Y B E R</td>\n",
       "    </tr>\n",
       "    <tr>\n",
       "      <th>2002</th>\n",
       "      <td>30_10_2022_157_signer.mp4</td>\n",
       "      <td>127</td>\n",
       "      <td>171</td>\n",
       "      <td>W I L L I A M S</td>\n",
       "    </tr>\n",
       "    <tr>\n",
       "      <th>2003</th>\n",
       "      <td>video_15_60_signer.mp4</td>\n",
       "      <td>48</td>\n",
       "      <td>84</td>\n",
       "      <td>O B S T A C L E</td>\n",
       "    </tr>\n",
       "  </tbody>\n",
       "</table>\n",
       "<p>2004 rows × 4 columns</p>\n",
       "</div>"
      ],
      "text/plain": [
       "                Video_Clip_Name  Begin_Frame  End_Frame  Finger_Spelling\n",
       "0       video_80_130_signer.mp4           56         65            E G G\n",
       "1      13_11_2022_94_signer.mp4          242        270    H A C K E R S\n",
       "2        video_47_89_signer.mp4            3         22          R O P E\n",
       "3        video_81_33_signer.mp4           32         60          S H E D\n",
       "4        video_10_78_signer.mp4           29         72        T R A C Y\n",
       "...                         ...          ...        ...              ...\n",
       "1999   4_12_2022_109_signer.mp4           39         65        S H I N E\n",
       "2000     video_61_71_signer.mp4           67         91        C R A F T\n",
       "2001   13_11_2022_93_signer.mp4           27         56        C Y B E R\n",
       "2002  30_10_2022_157_signer.mp4          127        171  W I L L I A M S\n",
       "2003     video_15_60_signer.mp4           48         84  O B S T A C L E\n",
       "\n",
       "[2004 rows x 4 columns]"
      ]
     },
     "execution_count": 53,
     "metadata": {},
     "output_type": "execute_result"
    }
   ],
   "source": [
    "f_df"
   ]
  },
  {
   "cell_type": "code",
   "execution_count": 54,
   "metadata": {},
   "outputs": [
    {
     "data": {
      "text/plain": [
       "Video_Clip_Name\n",
       "4_12_2022_59_signer.mp4      9\n",
       "13_11_2022_24_signer.mp4     7\n",
       "13_11_2022_68_signer.mp4     6\n",
       "4_12_2022_8_signer.mp4       5\n",
       "13_11_2022_150_signer.mp4    5\n",
       "                            ..\n",
       "video_59_99_signer.mp4       1\n",
       "video_67_101_signer.mp4      1\n",
       "video_86_162_signer.mp4      1\n",
       "video_55_110_signer.mp4      1\n",
       "video_15_60_signer.mp4       1\n",
       "Name: count, Length: 1605, dtype: int64"
      ]
     },
     "execution_count": 54,
     "metadata": {},
     "output_type": "execute_result"
    }
   ],
   "source": [
    "f_df['Video_Clip_Name'].value_counts()"
   ]
  },
  {
   "cell_type": "code",
   "execution_count": 56,
   "metadata": {},
   "outputs": [
    {
     "data": {
      "text/html": [
       "<div>\n",
       "<style scoped>\n",
       "    .dataframe tbody tr th:only-of-type {\n",
       "        vertical-align: middle;\n",
       "    }\n",
       "\n",
       "    .dataframe tbody tr th {\n",
       "        vertical-align: top;\n",
       "    }\n",
       "\n",
       "    .dataframe thead th {\n",
       "        text-align: right;\n",
       "    }\n",
       "</style>\n",
       "<table border=\"1\" class=\"dataframe\">\n",
       "  <thead>\n",
       "    <tr style=\"text-align: right;\">\n",
       "      <th></th>\n",
       "      <th>Video_Clip_Name</th>\n",
       "      <th>Begin_Frame</th>\n",
       "      <th>End_Frame</th>\n",
       "      <th>Finger_Spelling</th>\n",
       "    </tr>\n",
       "  </thead>\n",
       "  <tbody>\n",
       "    <tr>\n",
       "      <th>242</th>\n",
       "      <td>4_12_2022_59_signer.mp4</td>\n",
       "      <td>220</td>\n",
       "      <td>233</td>\n",
       "      <td>C O A L</td>\n",
       "    </tr>\n",
       "    <tr>\n",
       "      <th>426</th>\n",
       "      <td>4_12_2022_59_signer.mp4</td>\n",
       "      <td>86</td>\n",
       "      <td>96</td>\n",
       "      <td>G G</td>\n",
       "    </tr>\n",
       "    <tr>\n",
       "      <th>626</th>\n",
       "      <td>4_12_2022_59_signer.mp4</td>\n",
       "      <td>497</td>\n",
       "      <td>522</td>\n",
       "      <td>C O M P O</td>\n",
       "    </tr>\n",
       "    <tr>\n",
       "      <th>1362</th>\n",
       "      <td>4_12_2022_59_signer.mp4</td>\n",
       "      <td>244</td>\n",
       "      <td>251</td>\n",
       "      <td>A S</td>\n",
       "    </tr>\n",
       "    <tr>\n",
       "      <th>1534</th>\n",
       "      <td>4_12_2022_59_signer.mp4</td>\n",
       "      <td>439</td>\n",
       "      <td>454</td>\n",
       "      <td>C O A L</td>\n",
       "    </tr>\n",
       "    <tr>\n",
       "      <th>1541</th>\n",
       "      <td>4_12_2022_59_signer.mp4</td>\n",
       "      <td>577</td>\n",
       "      <td>586</td>\n",
       "      <td>G G</td>\n",
       "    </tr>\n",
       "    <tr>\n",
       "      <th>1601</th>\n",
       "      <td>4_12_2022_59_signer.mp4</td>\n",
       "      <td>272</td>\n",
       "      <td>304</td>\n",
       "      <td>C O M P O</td>\n",
       "    </tr>\n",
       "    <tr>\n",
       "      <th>1809</th>\n",
       "      <td>4_12_2022_59_signer.mp4</td>\n",
       "      <td>349</td>\n",
       "      <td>371</td>\n",
       "      <td>N S W</td>\n",
       "    </tr>\n",
       "    <tr>\n",
       "      <th>1883</th>\n",
       "      <td>4_12_2022_59_signer.mp4</td>\n",
       "      <td>379</td>\n",
       "      <td>389</td>\n",
       "      <td>Q Q</td>\n",
       "    </tr>\n",
       "  </tbody>\n",
       "</table>\n",
       "</div>"
      ],
      "text/plain": [
       "              Video_Clip_Name  Begin_Frame  End_Frame Finger_Spelling\n",
       "242   4_12_2022_59_signer.mp4          220        233         C O A L\n",
       "426   4_12_2022_59_signer.mp4           86         96             G G\n",
       "626   4_12_2022_59_signer.mp4          497        522       C O M P O\n",
       "1362  4_12_2022_59_signer.mp4          244        251             A S\n",
       "1534  4_12_2022_59_signer.mp4          439        454         C O A L\n",
       "1541  4_12_2022_59_signer.mp4          577        586             G G\n",
       "1601  4_12_2022_59_signer.mp4          272        304       C O M P O\n",
       "1809  4_12_2022_59_signer.mp4          349        371           N S W\n",
       "1883  4_12_2022_59_signer.mp4          379        389             Q Q"
      ]
     },
     "execution_count": 56,
     "metadata": {},
     "output_type": "execute_result"
    }
   ],
   "source": [
    "f_df[f_df['Video_Clip_Name'] == '4_12_2022_59_signer.mp4']"
   ]
  },
  {
   "cell_type": "code",
   "execution_count": 57,
   "metadata": {},
   "outputs": [],
   "source": [
    "f_df.to_excel('fingerspelling_dataset.xlsx', index=True)"
   ]
  },
  {
   "cell_type": "code",
   "execution_count": null,
   "metadata": {},
   "outputs": [],
   "source": []
  }
 ],
 "metadata": {
  "kernelspec": {
   "display_name": "base",
   "language": "python",
   "name": "python3"
  },
  "language_info": {
   "codemirror_mode": {
    "name": "ipython",
    "version": 3
   },
   "file_extension": ".py",
   "mimetype": "text/x-python",
   "name": "python",
   "nbconvert_exporter": "python",
   "pygments_lexer": "ipython3",
   "version": "3.12.4"
  }
 },
 "nbformat": 4,
 "nbformat_minor": 2
}
