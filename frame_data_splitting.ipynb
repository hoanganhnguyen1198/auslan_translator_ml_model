{
 "cells": [
  {
   "cell_type": "code",
   "execution_count": 61,
   "metadata": {},
   "outputs": [],
   "source": [
    "import cv2\n",
    "import pandas as pd\n",
    "import os"
   ]
  },
  {
   "cell_type": "code",
   "execution_count": 22,
   "metadata": {},
   "outputs": [],
   "source": [
    "FRAME_DATA_DIR = '/Users/hanhf/Works/programming/uow-studies/csit998/csit998_ml/data/fingerspelling_detection/frame_data'\n",
    "FILE_TYPE = '.mp4'"
   ]
  },
  {
   "cell_type": "code",
   "execution_count": 51,
   "metadata": {},
   "outputs": [],
   "source": [
    "f_df = pd.read_csv('fingerspelling_dataset.csv', index_col=0)"
   ]
  },
  {
   "cell_type": "code",
   "execution_count": 52,
   "metadata": {},
   "outputs": [
    {
     "name": "stdout",
     "output_type": "stream",
     "text": [
      "<class 'pandas.core.frame.DataFrame'>\n",
      "Index: 2004 entries, 0 to 2003\n",
      "Data columns (total 4 columns):\n",
      " #   Column           Non-Null Count  Dtype \n",
      "---  ------           --------------  ----- \n",
      " 0   Video_Clip_Name  2004 non-null   object\n",
      " 1   Begin_Frame      2004 non-null   int64 \n",
      " 2   End_Frame        2004 non-null   int64 \n",
      " 3   Finger_Spelling  2004 non-null   object\n",
      "dtypes: int64(2), object(2)\n",
      "memory usage: 78.3+ KB\n"
     ]
    }
   ],
   "source": [
    "f_df.info()"
   ]
  },
  {
   "cell_type": "code",
   "execution_count": 54,
   "metadata": {},
   "outputs": [
    {
     "data": {
      "text/plain": [
       "Video_Clip_Name\n",
       "4_12_2022_59_signer.mp4      9\n",
       "13_11_2022_24_signer.mp4     7\n",
       "13_11_2022_68_signer.mp4     6\n",
       "4_12_2022_8_signer.mp4       5\n",
       "13_11_2022_150_signer.mp4    5\n",
       "                            ..\n",
       "video_59_99_signer.mp4       1\n",
       "video_67_101_signer.mp4      1\n",
       "video_86_162_signer.mp4      1\n",
       "video_55_110_signer.mp4      1\n",
       "video_15_60_signer.mp4       1\n",
       "Name: count, Length: 1605, dtype: int64"
      ]
     },
     "execution_count": 54,
     "metadata": {},
     "output_type": "execute_result"
    }
   ],
   "source": [
    "f_df['Video_Clip_Name'].value_counts()"
   ]
  },
  {
   "cell_type": "code",
   "execution_count": 56,
   "metadata": {},
   "outputs": [
    {
     "data": {
      "text/html": [
       "<div>\n",
       "<style scoped>\n",
       "    .dataframe tbody tr th:only-of-type {\n",
       "        vertical-align: middle;\n",
       "    }\n",
       "\n",
       "    .dataframe tbody tr th {\n",
       "        vertical-align: top;\n",
       "    }\n",
       "\n",
       "    .dataframe thead th {\n",
       "        text-align: right;\n",
       "    }\n",
       "</style>\n",
       "<table border=\"1\" class=\"dataframe\">\n",
       "  <thead>\n",
       "    <tr style=\"text-align: right;\">\n",
       "      <th></th>\n",
       "      <th>Video_Clip_Name</th>\n",
       "      <th>Begin_Frame</th>\n",
       "      <th>End_Frame</th>\n",
       "      <th>Finger_Spelling</th>\n",
       "    </tr>\n",
       "  </thead>\n",
       "  <tbody>\n",
       "    <tr>\n",
       "      <th>242</th>\n",
       "      <td>4_12_2022_59_signer.mp4</td>\n",
       "      <td>220</td>\n",
       "      <td>233</td>\n",
       "      <td>C O A L</td>\n",
       "    </tr>\n",
       "    <tr>\n",
       "      <th>426</th>\n",
       "      <td>4_12_2022_59_signer.mp4</td>\n",
       "      <td>86</td>\n",
       "      <td>96</td>\n",
       "      <td>G G</td>\n",
       "    </tr>\n",
       "    <tr>\n",
       "      <th>626</th>\n",
       "      <td>4_12_2022_59_signer.mp4</td>\n",
       "      <td>497</td>\n",
       "      <td>522</td>\n",
       "      <td>C O M P O</td>\n",
       "    </tr>\n",
       "    <tr>\n",
       "      <th>1362</th>\n",
       "      <td>4_12_2022_59_signer.mp4</td>\n",
       "      <td>244</td>\n",
       "      <td>251</td>\n",
       "      <td>A S</td>\n",
       "    </tr>\n",
       "    <tr>\n",
       "      <th>1534</th>\n",
       "      <td>4_12_2022_59_signer.mp4</td>\n",
       "      <td>439</td>\n",
       "      <td>454</td>\n",
       "      <td>C O A L</td>\n",
       "    </tr>\n",
       "    <tr>\n",
       "      <th>1541</th>\n",
       "      <td>4_12_2022_59_signer.mp4</td>\n",
       "      <td>577</td>\n",
       "      <td>586</td>\n",
       "      <td>G G</td>\n",
       "    </tr>\n",
       "    <tr>\n",
       "      <th>1601</th>\n",
       "      <td>4_12_2022_59_signer.mp4</td>\n",
       "      <td>272</td>\n",
       "      <td>304</td>\n",
       "      <td>C O M P O</td>\n",
       "    </tr>\n",
       "    <tr>\n",
       "      <th>1809</th>\n",
       "      <td>4_12_2022_59_signer.mp4</td>\n",
       "      <td>349</td>\n",
       "      <td>371</td>\n",
       "      <td>N S W</td>\n",
       "    </tr>\n",
       "    <tr>\n",
       "      <th>1883</th>\n",
       "      <td>4_12_2022_59_signer.mp4</td>\n",
       "      <td>379</td>\n",
       "      <td>389</td>\n",
       "      <td>Q Q</td>\n",
       "    </tr>\n",
       "  </tbody>\n",
       "</table>\n",
       "</div>"
      ],
      "text/plain": [
       "              Video_Clip_Name  Begin_Frame  End_Frame Finger_Spelling\n",
       "242   4_12_2022_59_signer.mp4          220        233         C O A L\n",
       "426   4_12_2022_59_signer.mp4           86         96             G G\n",
       "626   4_12_2022_59_signer.mp4          497        522       C O M P O\n",
       "1362  4_12_2022_59_signer.mp4          244        251             A S\n",
       "1534  4_12_2022_59_signer.mp4          439        454         C O A L\n",
       "1541  4_12_2022_59_signer.mp4          577        586             G G\n",
       "1601  4_12_2022_59_signer.mp4          272        304       C O M P O\n",
       "1809  4_12_2022_59_signer.mp4          349        371           N S W\n",
       "1883  4_12_2022_59_signer.mp4          379        389             Q Q"
      ]
     },
     "execution_count": 56,
     "metadata": {},
     "output_type": "execute_result"
    }
   ],
   "source": [
    "f_df[f_df['Video_Clip_Name'] == '4_12_2022_59_signer.mp4']"
   ]
  },
  {
   "cell_type": "code",
   "execution_count": 57,
   "metadata": {},
   "outputs": [],
   "source": [
    "f_df.to_excel('fingerspelling_dataset.xlsx', index=True)"
   ]
  },
  {
   "cell_type": "code",
   "execution_count": 84,
   "metadata": {},
   "outputs": [
    {
     "data": {
      "text/html": [
       "<div>\n",
       "<style scoped>\n",
       "    .dataframe tbody tr th:only-of-type {\n",
       "        vertical-align: middle;\n",
       "    }\n",
       "\n",
       "    .dataframe tbody tr th {\n",
       "        vertical-align: top;\n",
       "    }\n",
       "\n",
       "    .dataframe thead th {\n",
       "        text-align: right;\n",
       "    }\n",
       "</style>\n",
       "<table border=\"1\" class=\"dataframe\">\n",
       "  <thead>\n",
       "    <tr style=\"text-align: right;\">\n",
       "      <th></th>\n",
       "      <th>video_name</th>\n",
       "      <th>begin_frame</th>\n",
       "      <th>end_frame</th>\n",
       "      <th>finger_spelling</th>\n",
       "    </tr>\n",
       "  </thead>\n",
       "  <tbody>\n",
       "  </tbody>\n",
       "</table>\n",
       "</div>"
      ],
      "text/plain": [
       "Empty DataFrame\n",
       "Columns: [video_name, begin_frame, end_frame, finger_spelling]\n",
       "Index: []"
      ]
     },
     "execution_count": 84,
     "metadata": {},
     "output_type": "execute_result"
    }
   ],
   "source": [
    "df = pd.DataFrame(columns=['video_name', 'begin_frame', 'end_frame', 'finger_spelling'])\n",
    "df"
   ]
  },
  {
   "cell_type": "code",
   "execution_count": 85,
   "metadata": {},
   "outputs": [],
   "source": [
    "for i,r in f_df.iterrows():\n",
    "    fingers = r['Finger_Spelling'].split(' ')\n",
    "    video_name = r['Video_Clip_Name']\n",
    "    begin = r['Begin_Frame']\n",
    "    end = r['End_Frame']\n",
    "    for f in fingers:\n",
    "        df = pd.concat([pd.DataFrame([[video_name,begin,end,f]], columns=df.columns), df], ignore_index=True)"
   ]
  },
  {
   "cell_type": "code",
   "execution_count": 86,
   "metadata": {},
   "outputs": [],
   "source": [
    "df.drop(df[df['finger_spelling'] == ''].index, inplace=True)"
   ]
  },
  {
   "cell_type": "code",
   "execution_count": 87,
   "metadata": {},
   "outputs": [
    {
     "name": "stdout",
     "output_type": "stream",
     "text": [
      "<class 'pandas.core.frame.DataFrame'>\n",
      "Index: 9007 entries, 0 to 9090\n",
      "Data columns (total 4 columns):\n",
      " #   Column           Non-Null Count  Dtype \n",
      "---  ------           --------------  ----- \n",
      " 0   video_name       9007 non-null   object\n",
      " 1   begin_frame      9007 non-null   object\n",
      " 2   end_frame        9007 non-null   object\n",
      " 3   finger_spelling  9007 non-null   object\n",
      "dtypes: object(4)\n",
      "memory usage: 351.8+ KB\n"
     ]
    }
   ],
   "source": [
    "df.info()"
   ]
  },
  {
   "cell_type": "code",
   "execution_count": 89,
   "metadata": {},
   "outputs": [
    {
     "data": {
      "text/html": [
       "<div>\n",
       "<style scoped>\n",
       "    .dataframe tbody tr th:only-of-type {\n",
       "        vertical-align: middle;\n",
       "    }\n",
       "\n",
       "    .dataframe tbody tr th {\n",
       "        vertical-align: top;\n",
       "    }\n",
       "\n",
       "    .dataframe thead th {\n",
       "        text-align: right;\n",
       "    }\n",
       "</style>\n",
       "<table border=\"1\" class=\"dataframe\">\n",
       "  <thead>\n",
       "    <tr style=\"text-align: right;\">\n",
       "      <th></th>\n",
       "      <th>video_name</th>\n",
       "      <th>begin_frame</th>\n",
       "      <th>end_frame</th>\n",
       "      <th>finger_spelling</th>\n",
       "    </tr>\n",
       "  </thead>\n",
       "  <tbody>\n",
       "    <tr>\n",
       "      <th>0</th>\n",
       "      <td>video_15_60_signer.mp4</td>\n",
       "      <td>48</td>\n",
       "      <td>84</td>\n",
       "      <td>E</td>\n",
       "    </tr>\n",
       "    <tr>\n",
       "      <th>1</th>\n",
       "      <td>video_15_60_signer.mp4</td>\n",
       "      <td>48</td>\n",
       "      <td>84</td>\n",
       "      <td>L</td>\n",
       "    </tr>\n",
       "    <tr>\n",
       "      <th>2</th>\n",
       "      <td>video_15_60_signer.mp4</td>\n",
       "      <td>48</td>\n",
       "      <td>84</td>\n",
       "      <td>C</td>\n",
       "    </tr>\n",
       "    <tr>\n",
       "      <th>3</th>\n",
       "      <td>video_15_60_signer.mp4</td>\n",
       "      <td>48</td>\n",
       "      <td>84</td>\n",
       "      <td>A</td>\n",
       "    </tr>\n",
       "    <tr>\n",
       "      <th>4</th>\n",
       "      <td>video_15_60_signer.mp4</td>\n",
       "      <td>48</td>\n",
       "      <td>84</td>\n",
       "      <td>T</td>\n",
       "    </tr>\n",
       "    <tr>\n",
       "      <th>...</th>\n",
       "      <td>...</td>\n",
       "      <td>...</td>\n",
       "      <td>...</td>\n",
       "      <td>...</td>\n",
       "    </tr>\n",
       "    <tr>\n",
       "      <th>9086</th>\n",
       "      <td>13_11_2022_94_signer.mp4</td>\n",
       "      <td>242</td>\n",
       "      <td>270</td>\n",
       "      <td>A</td>\n",
       "    </tr>\n",
       "    <tr>\n",
       "      <th>9087</th>\n",
       "      <td>13_11_2022_94_signer.mp4</td>\n",
       "      <td>242</td>\n",
       "      <td>270</td>\n",
       "      <td>H</td>\n",
       "    </tr>\n",
       "    <tr>\n",
       "      <th>9088</th>\n",
       "      <td>video_80_130_signer.mp4</td>\n",
       "      <td>56</td>\n",
       "      <td>65</td>\n",
       "      <td>G</td>\n",
       "    </tr>\n",
       "    <tr>\n",
       "      <th>9089</th>\n",
       "      <td>video_80_130_signer.mp4</td>\n",
       "      <td>56</td>\n",
       "      <td>65</td>\n",
       "      <td>G</td>\n",
       "    </tr>\n",
       "    <tr>\n",
       "      <th>9090</th>\n",
       "      <td>video_80_130_signer.mp4</td>\n",
       "      <td>56</td>\n",
       "      <td>65</td>\n",
       "      <td>E</td>\n",
       "    </tr>\n",
       "  </tbody>\n",
       "</table>\n",
       "<p>9007 rows × 4 columns</p>\n",
       "</div>"
      ],
      "text/plain": [
       "                    video_name begin_frame end_frame finger_spelling\n",
       "0       video_15_60_signer.mp4          48        84               E\n",
       "1       video_15_60_signer.mp4          48        84               L\n",
       "2       video_15_60_signer.mp4          48        84               C\n",
       "3       video_15_60_signer.mp4          48        84               A\n",
       "4       video_15_60_signer.mp4          48        84               T\n",
       "...                        ...         ...       ...             ...\n",
       "9086  13_11_2022_94_signer.mp4         242       270               A\n",
       "9087  13_11_2022_94_signer.mp4         242       270               H\n",
       "9088   video_80_130_signer.mp4          56        65               G\n",
       "9089   video_80_130_signer.mp4          56        65               G\n",
       "9090   video_80_130_signer.mp4          56        65               E\n",
       "\n",
       "[9007 rows x 4 columns]"
      ]
     },
     "execution_count": 89,
     "metadata": {},
     "output_type": "execute_result"
    }
   ],
   "source": [
    "df"
   ]
  },
  {
   "cell_type": "code",
   "execution_count": 88,
   "metadata": {},
   "outputs": [
    {
     "data": {
      "text/plain": [
       "finger_spelling\n",
       "E    955\n",
       "A    868\n",
       "S    768\n",
       "L    676\n",
       "O    669\n",
       "R    553\n",
       "T    481\n",
       "I    457\n",
       "N    433\n",
       "C    416\n",
       "P    330\n",
       "M    328\n",
       "G    320\n",
       "D    313\n",
       "U    285\n",
       "Y    239\n",
       "H    162\n",
       "W    157\n",
       "B    150\n",
       "F    141\n",
       "K    105\n",
       "V     79\n",
       "J     45\n",
       "X     33\n",
       "Q     28\n",
       "Z     16\n",
       "Name: count, dtype: int64"
      ]
     },
     "execution_count": 88,
     "metadata": {},
     "output_type": "execute_result"
    }
   ],
   "source": [
    "df['finger_spelling'].value_counts()"
   ]
  },
  {
   "cell_type": "code",
   "execution_count": 90,
   "metadata": {},
   "outputs": [],
   "source": [
    "df.to_excel('single_finger_spelling_dataset.xlsx', index=True)"
   ]
  }
 ],
 "metadata": {
  "kernelspec": {
   "display_name": "base",
   "language": "python",
   "name": "python3"
  },
  "language_info": {
   "codemirror_mode": {
    "name": "ipython",
    "version": 3
   },
   "file_extension": ".py",
   "mimetype": "text/x-python",
   "name": "python",
   "nbconvert_exporter": "python",
   "pygments_lexer": "ipython3",
   "version": "3.12.4"
  }
 },
 "nbformat": 4,
 "nbformat_minor": 2
}
